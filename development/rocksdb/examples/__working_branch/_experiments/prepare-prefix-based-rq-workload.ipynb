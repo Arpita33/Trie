{
 "cells": [
  {
   "cell_type": "code",
   "execution_count": 1,
   "metadata": {},
   "outputs": [],
   "source": [
    "prefix_len = 6\n",
    "\n",
    "def process_line(line):\n",
    "    parts = line.split()\n",
    "    if parts[0] == 'S':\n",
    "        start_key, end_key = parts[1], parts[2]\n",
    "        \n",
    "        # Ensuring the prefix of the end key matches with the start key\n",
    "        prefix_length = min(len(start_key), len(end_key), prefix_len)\n",
    "        if start_key[:prefix_length] != end_key[:prefix_length]:\n",
    "            end_key = start_key[:prefix_length] + \"9\"*len(end_key[prefix_length:])\n",
    "        \n",
    "        # Swapping if the start key is lexicographically greater than the end key\n",
    "        if start_key > end_key:\n",
    "            start_key, end_key = end_key, start_key\n",
    "        \n",
    "        return f\"{parts[0]} {start_key} {end_key}\\n\"\n",
    "    else:\n",
    "        return line  # or handle other cases if necessary\n",
    "\n",
    "def process_file(input_file_path, output_file_path):\n",
    "    with open(input_file_path, 'r') as infile, open(output_file_path, 'w') as outfile:\n",
    "        for line in infile:\n",
    "            processed_line = process_line(line)\n",
    "            outfile.write(processed_line)\n",
    "\n",
    "# Example usage\n",
    "input_file_path = '/home/cc/LSMMemoryProfiling/development/rocksdb/examples/__working_branch/experiments-RQ-0.8-64/workload.txt'\n",
    "output_file_path = 'processed_output_file.txt'\n",
    "process_file(input_file_path, output_file_path)\n"
   ]
  },
  {
   "cell_type": "code",
   "execution_count": null,
   "metadata": {},
   "outputs": [],
   "source": []
  }
 ],
 "metadata": {
  "kernelspec": {
   "display_name": "Python 3",
   "language": "python",
   "name": "python3"
  },
  "language_info": {
   "codemirror_mode": {
    "name": "ipython",
    "version": 3
   },
   "file_extension": ".py",
   "mimetype": "text/x-python",
   "name": "python",
   "nbconvert_exporter": "python",
   "pygments_lexer": "ipython3",
   "version": "3.8.10"
  }
 },
 "nbformat": 4,
 "nbformat_minor": 2
}
