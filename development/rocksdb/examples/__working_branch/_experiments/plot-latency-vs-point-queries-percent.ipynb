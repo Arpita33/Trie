{
 "cells": [
  {
   "cell_type": "code",
   "execution_count": 3,
   "metadata": {},
   "outputs": [
    {
     "name": "stdout",
     "output_type": "stream",
     "text": [
      "Collecting pandas\n",
      "  Downloading pandas-2.0.3-cp38-cp38-manylinux_2_17_x86_64.manylinux2014_x86_64.whl (12.4 MB)\n",
      "\u001b[K     |████████████████████████████████| 12.4 MB 8.0 MB/s eta 0:00:01\n",
      "\u001b[?25hCollecting matplotlib\n",
      "  Downloading matplotlib-3.7.5-cp38-cp38-manylinux_2_12_x86_64.manylinux2010_x86_64.whl (9.2 MB)\n",
      "\u001b[K     |████████████████████████████████| 9.2 MB 51.2 MB/s eta 0:00:01     |███████████████████████         | 6.6 MB 51.2 MB/s eta 0:00:01\n",
      "\u001b[?25hCollecting pytz>=2020.1\n",
      "  Downloading pytz-2024.1-py2.py3-none-any.whl (505 kB)\n",
      "\u001b[K     |████████████████████████████████| 505 kB 145.7 MB/s eta 0:00:01\n",
      "\u001b[?25hRequirement already satisfied: python-dateutil>=2.8.2 in /home/cc/.local/lib/python3.8/site-packages (from pandas) (2.9.0.post0)\n",
      "Collecting numpy>=1.20.3; python_version < \"3.10\"\n",
      "  Downloading numpy-1.24.4-cp38-cp38-manylinux_2_17_x86_64.manylinux2014_x86_64.whl (17.3 MB)\n",
      "\u001b[K     |████████████████████████████████| 17.3 MB 48.7 MB/s eta 0:00:01\n",
      "\u001b[?25hCollecting tzdata>=2022.1\n",
      "  Downloading tzdata-2024.1-py2.py3-none-any.whl (345 kB)\n",
      "\u001b[K     |████████████████████████████████| 345 kB 134.1 MB/s eta 0:00:01\n",
      "\u001b[?25hRequirement already satisfied: packaging>=20.0 in /home/cc/.local/lib/python3.8/site-packages (from matplotlib) (24.0)\n",
      "Collecting contourpy>=1.0.1\n",
      "  Downloading contourpy-1.1.1-cp38-cp38-manylinux_2_17_x86_64.manylinux2014_x86_64.whl (301 kB)\n",
      "\u001b[K     |████████████████████████████████| 301 kB 138.8 MB/s eta 0:00:01\n",
      "\u001b[?25hCollecting pillow>=6.2.0\n",
      "  Downloading pillow-10.2.0-cp38-cp38-manylinux_2_17_x86_64.manylinux2014_x86_64.whl (4.4 MB)\n",
      "\u001b[K     |████████████████████████████████| 4.4 MB 50.6 MB/s eta 0:00:01\n",
      "\u001b[?25hCollecting cycler>=0.10\n",
      "  Downloading cycler-0.12.1-py3-none-any.whl (8.3 kB)\n",
      "Collecting fonttools>=4.22.0\n",
      "  Downloading fonttools-4.49.0-cp38-cp38-manylinux_2_17_x86_64.manylinux2014_x86_64.whl (4.7 MB)\n",
      "\u001b[K     |████████████████████████████████| 4.7 MB 49.9 MB/s eta 0:00:01\n",
      "\u001b[?25hCollecting pyparsing>=2.3.1\n",
      "  Downloading pyparsing-3.1.2-py3-none-any.whl (103 kB)\n",
      "\u001b[K     |████████████████████████████████| 103 kB 76.2 MB/s eta 0:00:01\n",
      "\u001b[?25hCollecting kiwisolver>=1.0.1\n",
      "  Downloading kiwisolver-1.4.5-cp38-cp38-manylinux_2_5_x86_64.manylinux1_x86_64.whl (1.2 MB)\n",
      "\u001b[K     |████████████████████████████████| 1.2 MB 51.7 MB/s eta 0:00:01\n",
      "\u001b[?25hCollecting importlib-resources>=3.2.0; python_version < \"3.10\"\n",
      "  Downloading importlib_resources-6.3.0-py3-none-any.whl (35 kB)\n",
      "Requirement already satisfied: six>=1.5 in /usr/lib/python3/dist-packages (from python-dateutil>=2.8.2->pandas) (1.14.0)\n",
      "Collecting zipp>=3.1.0; python_version < \"3.10\"\n",
      "  Downloading zipp-3.18.1-py3-none-any.whl (8.2 kB)\n",
      "Installing collected packages: pytz, numpy, tzdata, pandas, contourpy, pillow, cycler, fonttools, pyparsing, kiwisolver, zipp, importlib-resources, matplotlib\n",
      "Successfully installed contourpy-1.1.1 cycler-0.12.1 fonttools-4.49.0 importlib-resources-6.3.0 kiwisolver-1.4.5 matplotlib-3.7.5 numpy-1.24.4 pandas-2.0.3 pillow-10.2.0 pyparsing-3.1.2 pytz-2024.1 tzdata-2024.1 zipp-3.18.1\n"
     ]
    }
   ],
   "source": [
    "!pip install pandas matplotlib"
   ]
  },
  {
   "cell_type": "code",
   "execution_count": 86,
   "metadata": {},
   "outputs": [],
   "source": [
    "from typing import List, Dict, Tuple\n",
    "\n",
    "import os\n",
    "from pathlib import Path\n",
    "\n",
    "import pandas as pd\n",
    "import numpy as np\n",
    "import matplotlib.pyplot as plt\n",
    "\n",
    "__WORKING_BRANCH_PATH = (\n",
    "    \"/home/cc/LSMMemoryProfiling/development/rocksdb/examples/__working_branch\"\n",
    ")\n",
    "\n",
    "hatch = {\n",
    "    'Vector': '',\n",
    "    'Vectorpreallocated': '||||',\n",
    "    'Skiplist': '\\\\\\\\\\\\\\\\\\\\\\\\',\n",
    "    'Hashskiplist': '//',\n",
    "    'Hashlinklist': '----',\n",
    "    'Mean': '',\n",
    "    'Median': '||||||',\n",
    "    'Max': '\\\\\\\\\\\\\\\\\\\\\\\\',\n",
    "    '95th': '//',\n",
    "    '98th': '----',\n",
    "    '99th': '\\\\\\\\'\n",
    "}\n",
    "\n",
    "linestyle = {\n",
    "    'vector': '-',\n",
    "    'vectorpreallocated': '--',\n",
    "    'skiplist': '--',\n",
    "    'hashskiplist': '-.',\n",
    "    'hashlinklist': ':'\n",
    "}\n",
    "\n",
    "alpha = {\n",
    "    'Vector': 1,\n",
    "    'Vectorpreallocated': 1,\n",
    "    'Skiplist': 0.8,\n",
    "    'Hashskiplist': 1,\n",
    "    'Hashlinklist': 1,\n",
    "}\n",
    "\n",
    "color = {\n",
    "    # 'Vector': 'darkslateblue',\n",
    "    # 'Skiplist': 'slategray',\n",
    "    # 'Hashskiplist': 'darkkhaki',\n",
    "    # 'Hashlinklist': 'chocolate'\n",
    "    'Vector': 'black',\n",
    "    'Vectorpreallocated': 'black',\n",
    "    'Skiplist': 'black',\n",
    "    'Hashskiplist': 'black',\n",
    "    'Hashlinklist': 'black'\n",
    "}\n",
    "\n",
    "linewidth = {\n",
    "    'Vector': 1,\n",
    "    'Vectorpreallocated': 1,\n",
    "    'Skiplist': 1,\n",
    "    'Hashskiplist': 1,\n",
    "    'Hashlinklist': 1,\n",
    "}\n",
    "\n",
    "edgecolor = {\n",
    "    'Vector': 'black',\n",
    "    'Vectorpreallocated': 'black',\n",
    "    'Skiplist': 'black',\n",
    "    'Hashskiplist': 'black',\n",
    "    'Hashlinklist': 'black',\n",
    "    'Mean': 'black',\n",
    "    'Median': 'black',\n",
    "    'Max': 'black',\n",
    "    '95th': 'black',\n",
    "    '98th': 'black',\n",
    "    '99th': 'black'\n",
    "}\n",
    "\n",
    "label = {\n",
    "    'vector': 'vector',\n",
    "    'vectorpreallocated': 'vector preallocated',\n",
    "    'skiplist': 'skiplist',\n",
    "    'hashskiplist': 'hash skiplist',\n",
    "    'hashlinklist': 'hash linklist',\n",
    "    'Mean': 'mean',\n",
    "    'Median': 'median',\n",
    "    'Max': 'max',\n",
    "    '95th': '95th',\n",
    "    '98th': '98th',\n",
    "    '99th': '99th'\n",
    "}\n",
    "\n",
    "plt.rcParams[\"font.family\"] = \"serif\"\n",
    "\n",
    "alphabets = \"abcdefghijklmnopqrstuvwxyz\""
   ]
  },
  {
   "cell_type": "code",
   "execution_count": 83,
   "metadata": {},
   "outputs": [],
   "source": [
    "def get_properties(key: str) -> Dict[str, str]:\n",
    "    if key.lower() in label:\n",
    "        return {\n",
    "            # \"label\": label.get(key.capitalize()),\n",
    "            \"color\": \"black\",\n",
    "            # \"edgecolor\": edgecolor.get(key.capitalize()) or \"None\",\n",
    "            \"linestyle\": linestyle.get(key.lower()),\n",
    "            # \"hatch\": hatch.get(key.capitalize()),\n",
    "            # \"linewidth\": linewidth.get(key.capitalize()),\n",
    "            # \"alpha\": alpha.get(key.capitalize()),\n",
    "        }\n",
    "    else:\n",
    "        raise ValueError(f\"Unknown key: {key}\")"
   ]
  },
  {
   "cell_type": "code",
   "execution_count": 11,
   "metadata": {},
   "outputs": [],
   "source": [
    "def get_exp_dirname(query_type: str, selectivity: float, entry_size: int, pqs: int, epp: int) -> str:\n",
    "    return (\n",
    "        f\"{__WORKING_BRANCH_PATH}/experiments-{query_type}-{selectivity}-{entry_size}-{epp}-PQS-{pqs}\"\n",
    "    )\n",
    "\n",
    "\n",
    "def get_log_file_path(\n",
    "    query_type: str,\n",
    "    inserts: int,\n",
    "    point_queries: int,\n",
    "    range_queries: int,\n",
    "    selectivity: float,\n",
    "    memtable: str,\n",
    "    entry_size: int,\n",
    "    number_of_entries_per_page: int,\n",
    "    number_of_pages: int,\n",
    "    prefixlen: int = 0,\n",
    "    bucket_count: int = 0,\n",
    "    size_ratio: int = 4,\n",
    "    updates: int = 0,\n",
    "):\n",
    "    if memtable.lower() in (\"hashskiplist\", \"hashlinklist\"):\n",
    "        return f\"{get_exp_dirname(query_type, selectivity, entry_size, point_queries, number_of_entries_per_page)}/I {inserts} U {updates} S {range_queries} Y {selectivity} Q {point_queries} m {memtable.lower()} E {entry_size} B {number_of_entries_per_page} P {number_of_pages} T {size_ratio} l {prefixlen} bucket_count {bucket_count}/workload.log\"\n",
    "    return f\"{get_exp_dirname(query_type, selectivity, entry_size, point_queries, number_of_entries_per_page)}/I {inserts} U {updates} S {range_queries} Y {selectivity} Q {point_queries} m {memtable.lower()} E {entry_size} B {number_of_entries_per_page} P {number_of_pages} T {size_ratio}/workload.log\""
   ]
  },
  {
   "cell_type": "code",
   "execution_count": 12,
   "metadata": {},
   "outputs": [],
   "source": [
    "def prepare_dataframe(log_file_path: str, key: str=\"RangeQueryTime: \") -> pd.DataFrame:\n",
    "    ff = open(log_file_path, \"r\")\n",
    "    range_quereis = []\n",
    "\n",
    "    for line in ff.readlines():\n",
    "        if key in line:\n",
    "            range_quereis.append(float(line.split(\" \")[1]))\n",
    "    \n",
    "    return pd.DataFrame(range_quereis, columns=[\"TimeTaken\"])\n"
   ]
  },
  {
   "cell_type": "code",
   "execution_count": 121,
   "metadata": {},
   "outputs": [],
   "source": [
    "point_queries = [12, 240, 960, 1200] #, 120, 2400, 7200, 12000]\n",
    "memtables = [\"Vector\", \"SkipList\", \"Hashskiplist\", \"Hashlinklist\"]\n",
    "prefixlen = 4\n",
    "bucket_count = 100000\n",
    "entry_size = 64\n",
    "inserts = 120000\n",
    "range_queries = 0\n",
    "number_of_entries_per_page = 64\n",
    "number_of_pages = 4096\n",
    "updates = 0\n",
    "selectivity = 0\n",
    "\n",
    "\n",
    "data = {\n",
    "    \"vector\": [],\n",
    "    \"skiplist\": [], \n",
    "    \"hashskiplist\": [], \n",
    "    \"hashlinklist\": [],\n",
    "}\n",
    "\n",
    "for pqs in point_queries:\n",
    "\n",
    "    for memtable in memtables:\n",
    "        query_type = \"Interleaved-PQ-\"\n",
    "        query_type += memtable.lower()\n",
    "\n",
    "        path = get_log_file_path(\n",
    "            query_type,\n",
    "            inserts,\n",
    "            pqs,\n",
    "            range_queries,\n",
    "            selectivity,\n",
    "            memtable,\n",
    "            entry_size,\n",
    "            number_of_entries_per_page,\n",
    "            number_of_pages,\n",
    "            prefixlen,\n",
    "            bucket_count,\n",
    "        )\n",
    "\n",
    "        df = prepare_dataframe(path, \"PointQueryTime:\")\n",
    "\n",
    "        print\n",
    "        data[memtable.lower()].append({\n",
    "            \"pointQueries\": pqs,\n",
    "            \"AvgPointQueryLatency\": df[\"TimeTaken\"].mean()\n",
    "        })\n",
    "\n",
    "\n"
   ]
  },
  {
   "cell_type": "code",
   "execution_count": 122,
   "metadata": {},
   "outputs": [
    {
     "data": {
      "text/plain": [
       "{'vector': [{'pointQueries': 12, 'AvgPointQueryLatency': 31868993.0},\n",
       "  {'pointQueries': 240, 'AvgPointQueryLatency': 23391762.520833332},\n",
       "  {'pointQueries': 960, 'AvgPointQueryLatency': 19285118.605208334},\n",
       "  {'pointQueries': 1200, 'AvgPointQueryLatency': 19312605.85}],\n",
       " 'skiplist': [{'pointQueries': 12, 'AvgPointQueryLatency': 3424.8333333333335},\n",
       "  {'pointQueries': 240, 'AvgPointQueryLatency': 2665.320833333333},\n",
       "  {'pointQueries': 960, 'AvgPointQueryLatency': 2459.235416666667},\n",
       "  {'pointQueries': 1200, 'AvgPointQueryLatency': 2122.32}],\n",
       " 'hashskiplist': [{'pointQueries': 12,\n",
       "   'AvgPointQueryLatency': 2283.0833333333335},\n",
       "  {'pointQueries': 240, 'AvgPointQueryLatency': 1868.9375},\n",
       "  {'pointQueries': 960, 'AvgPointQueryLatency': 1482.1552083333333},\n",
       "  {'pointQueries': 1200, 'AvgPointQueryLatency': 1212.2191666666668}],\n",
       " 'hashlinklist': [{'pointQueries': 12,\n",
       "   'AvgPointQueryLatency': 3933.3333333333335},\n",
       "  {'pointQueries': 240, 'AvgPointQueryLatency': 1673.5625},\n",
       "  {'pointQueries': 960, 'AvgPointQueryLatency': 1296.93125},\n",
       "  {'pointQueries': 1200, 'AvgPointQueryLatency': 617.3266666666667}]}"
      ]
     },
     "execution_count": 122,
     "metadata": {},
     "output_type": "execute_result"
    }
   ],
   "source": [
    "data"
   ]
  },
  {
   "cell_type": "code",
   "execution_count": 123,
   "metadata": {},
   "outputs": [
    {
     "data": {
      "text/plain": [
       "[{'pointQueries': 12, 'AvgPointQueryLatency': 31868993.0},\n",
       " {'pointQueries': 240, 'AvgPointQueryLatency': 23391762.520833332},\n",
       " {'pointQueries': 960, 'AvgPointQueryLatency': 19285118.605208334},\n",
       " {'pointQueries': 1200, 'AvgPointQueryLatency': 19312605.85}]"
      ]
     },
     "execution_count": 123,
     "metadata": {},
     "output_type": "execute_result"
    }
   ],
   "source": [
    "data['vector']"
   ]
  },
  {
   "cell_type": "code",
   "execution_count": 124,
   "metadata": {},
   "outputs": [
    {
     "data": {
      "text/plain": [
       "[31868993.0, 23391762.520833332, 19285118.605208334, 19312605.85]"
      ]
     },
     "execution_count": 124,
     "metadata": {},
     "output_type": "execute_result"
    }
   ],
   "source": [
    "point_queries\n",
    "[d['AvgPointQueryLatency'] for d in sorted(data['vector'], key=lambda x: x['pointQueries'])]"
   ]
  },
  {
   "cell_type": "code",
   "execution_count": 125,
   "metadata": {},
   "outputs": [
    {
     "data": {
      "image/png": "[encoded data removed]",
      "text/plain": [
       "<Figure size 500x300 with 1 Axes>"
      ]
     },
     "metadata": {},
     "output_type": "display_data"
    }
   ],
   "source": [
    "fig, ax = plt.subplots(figsize=(5,3))\n",
    "\n",
    "xpoints = [p/inserts for p in point_queries]\n",
    "\n",
    "ax.plot(\n",
    "    xpoints,\n",
    "    [d['AvgPointQueryLatency'] for d in sorted(data['vector'], key=lambda x: x['pointQueries'])],\n",
    "    label='vector',\n",
    "    **get_properties('vector'),\n",
    "    marker='o'\n",
    ")\n",
    "\n",
    "ax.plot(\n",
    "    xpoints,\n",
    "    [d['AvgPointQueryLatency'] for d in sorted(data['skiplist'], key=lambda x: x['pointQueries'])],\n",
    "    label='skiplist',\n",
    "    **get_properties('skiplist'),\n",
    "    marker='x'\n",
    ")\n",
    "\n",
    "ax.plot(\n",
    "    xpoints,\n",
    "    [d['AvgPointQueryLatency'] for d in sorted(data['hashskiplist'], key=lambda x: x['pointQueries'])],\n",
    "    label='hash skiplist',\n",
    "    **get_properties('hashskiplist'),\n",
    "    marker='s'\n",
    ")\n",
    "\n",
    "ax.plot(\n",
    "    xpoints,\n",
    "    [d['AvgPointQueryLatency'] for d in sorted(data['hashlinklist'], key=lambda x: x['pointQueries'])],\n",
    "    label='hash linklist',\n",
    "    **get_properties('hashlinklist'),\n",
    "    marker='^'\n",
    ")\n",
    "\n",
    "ax.set_xticks(xpoints)\n",
    "ax.set_xticklabels([f\"{p/inserts}\" for p in point_queries])\n",
    "\n",
    "ax.set_ylabel('avg point queries latency (ns)')\n",
    "ax.set_xlabel('point queries selectivity')\n",
    "ax.set_ylim(bottom=10**1, top=10**8)\n",
    "\n",
    "# ax.legend()\n",
    "ax.set_yscale('log')\n",
    "\n",
    "fig.legend(loc='upper center', ncol=4, fontsize='small', bbox_to_anchor=(0.5, 1.05))\n",
    "plt.show()"
   ]
  },
  {
   "cell_type": "code",
   "execution_count": 61,
   "metadata": {},
   "outputs": [
    {
     "data": {
      "text/plain": [
       "0.0001"
      ]
     },
     "execution_count": 61,
     "metadata": {},
     "output_type": "execute_result"
    }
   ],
   "source": [
    "point_queries[0]/inserts"
   ]
  },
  {
   "cell_type": "code",
   "execution_count": 62,
   "metadata": {},
   "outputs": [
    {
     "data": {
      "text/plain": [
       "[0.0001, 0.001, 0.002, 0.008, 0.01, 0.1]"
      ]
     },
     "execution_count": 62,
     "metadata": {},
     "output_type": "execute_result"
    }
   ],
   "source": [
    "xpoints"
   ]
  },
  {
   "cell_type": "code",
   "execution_count": null,
   "metadata": {},
   "outputs": [],
   "source": []
  }
 ],
 "metadata": {
  "kernelspec": {
   "display_name": "Python 3",
   "language": "python",
   "name": "python3"
  },
  "language_info": {
   "codemirror_mode": {
    "name": "ipython",
    "version": 3
   },
   "file_extension": ".py",
   "mimetype": "text/x-python",
   "name": "python",
   "nbconvert_exporter": "python",
   "pygments_lexer": "ipython3",
   "version": "3.8.10"
  }
 },
 "nbformat": 4,
 "nbformat_minor": 2
}
