{
 "cells": [
  {
   "cell_type": "code",
   "execution_count": null,
   "metadata": {},
   "outputs": [],
   "source": [
    "# !pip install pandas matplotlib"
   ]
  },
  {
   "cell_type": "code",
   "execution_count": 22,
   "metadata": {},
   "outputs": [],
   "source": [
    "from typing import List, Dict, Tuple\n",
    "\n",
    "import os\n",
    "from pathlib import Path\n",
    "\n",
    "import pandas as pd\n",
    "import numpy as np\n",
    "import matplotlib.pyplot as plt\n",
    "\n",
    "__WORKING_BRANCH_PATH = (\n",
    "    \"/home/cc/LSMMemoryProfiling/development/rocksdb/examples/__working_branch\"\n",
    ")\n",
    "\n",
    "hatch = {\n",
    "    'Vector': '',\n",
    "    'Vectorpreallocated': '||||',\n",
    "    'Skiplist': '\\\\\\\\\\\\\\\\\\\\\\\\',\n",
    "    'Hashskiplist': '//',\n",
    "    'Hashlinklist': '----',\n",
    "    'Mean': '',\n",
    "    'Median': '||||||',\n",
    "    'Max': '\\\\\\\\\\\\\\\\\\\\\\\\',\n",
    "    '95th': '//',\n",
    "    '98th': '----',\n",
    "    '99th': '\\\\\\\\'\n",
    "}\n",
    "\n",
    "linestyle = {\n",
    "    'vector': '-',\n",
    "    'vectorpreallocated': '--',\n",
    "    'skiplist': '--',\n",
    "    'hashskiplist': '-.',\n",
    "    'hashlinklist': ':'\n",
    "}\n",
    "\n",
    "alpha = {\n",
    "    'Vector': 1,\n",
    "    'Vectorpreallocated': 1,\n",
    "    'Skiplist': 0.8,\n",
    "    'Hashskiplist': 1,\n",
    "    'Hashlinklist': 1,\n",
    "}\n",
    "\n",
    "color = {\n",
    "    # 'Vector': 'darkslateblue',\n",
    "    # 'Skiplist': 'slategray',\n",
    "    # 'Hashskiplist': 'darkkhaki',\n",
    "    # 'Hashlinklist': 'chocolate'\n",
    "    'Vector': 'black',\n",
    "    'Vectorpreallocated': 'black',\n",
    "    'Skiplist': 'black',\n",
    "    'Hashskiplist': 'black',\n",
    "    'Hashlinklist': 'black'\n",
    "}\n",
    "\n",
    "linewidth = {\n",
    "    'Vector': 1,\n",
    "    'Vectorpreallocated': 1,\n",
    "    'Skiplist': 1,\n",
    "    'Hashskiplist': 1,\n",
    "    'Hashlinklist': 1,\n",
    "}\n",
    "\n",
    "edgecolor = {\n",
    "    'Vector': 'black',\n",
    "    'Vectorpreallocated': 'black',\n",
    "    'Skiplist': 'black',\n",
    "    'Hashskiplist': 'black',\n",
    "    'Hashlinklist': 'black',\n",
    "    'Mean': 'black',\n",
    "    'Median': 'black',\n",
    "    'Max': 'black',\n",
    "    '95th': 'black',\n",
    "    '98th': 'black',\n",
    "    '99th': 'black'\n",
    "}\n",
    "\n",
    "label = {\n",
    "    'vector': 'vector',\n",
    "    'vectorpreallocated': 'vector preallocated',\n",
    "    'skiplist': 'skiplist',\n",
    "    'hashskiplist': 'hash skiplist',\n",
    "    'hashlinklist': 'hash linklist',\n",
    "    'Mean': 'mean',\n",
    "    'Median': 'median',\n",
    "    'Max': 'max',\n",
    "    '95th': '95th',\n",
    "    '98th': '98th',\n",
    "    '99th': '99th'\n",
    "}\n",
    "\n",
    "plt.rcParams[\"font.family\"] = \"serif\"\n",
    "\n",
    "alphabets = \"abcdefghijklmnopqrstuvwxyz\""
   ]
  },
  {
   "cell_type": "code",
   "execution_count": 23,
   "metadata": {},
   "outputs": [],
   "source": [
    "def get_properties(key: str) -> Dict[str, str]:\n",
    "    if key.lower() in label:\n",
    "        return {\n",
    "            # \"label\": label.get(key.capitalize()),\n",
    "            \"color\": \"black\",\n",
    "            # \"edgecolor\": edgecolor.get(key.capitalize()) or \"None\",\n",
    "            \"linestyle\": linestyle.get(key.lower()),\n",
    "            # \"hatch\": hatch.get(key.capitalize()),\n",
    "            # \"linewidth\": linewidth.get(key.capitalize()),\n",
    "            # \"alpha\": alpha.get(key.capitalize()),\n",
    "        }\n",
    "    else:\n",
    "        raise ValueError(f\"Unknown key: {key}\")"
   ]
  },
  {
   "cell_type": "code",
   "execution_count": 24,
   "metadata": {},
   "outputs": [],
   "source": [
    "def get_exp_dirname(query_type: str, selectivity: float, entry_size: int, pqs: int, epp: int) -> str:\n",
    "    return (\n",
    "        f\"{__WORKING_BRANCH_PATH}/experiments-{query_type}-{selectivity}-{entry_size}-{epp}-PQS-{pqs}\"\n",
    "    )\n",
    "\n",
    "\n",
    "def get_log_file_path(\n",
    "    query_type: str,\n",
    "    inserts: int,\n",
    "    point_queries: int,\n",
    "    range_queries: int,\n",
    "    selectivity: float,\n",
    "    memtable: str,\n",
    "    entry_size: int,\n",
    "    number_of_entries_per_page: int,\n",
    "    number_of_pages: int,\n",
    "    prefixlen: int = 0,\n",
    "    bucket_count: int = 0,\n",
    "    size_ratio: int = 4,\n",
    "    updates: int = 0,\n",
    "):\n",
    "    if memtable.lower() in (\"hashskiplist\", \"hashlinklist\"):\n",
    "        return f\"{get_exp_dirname(query_type, selectivity, entry_size, point_queries, number_of_entries_per_page)}/I {inserts} U {updates} S {range_queries} Y {selectivity} Q {point_queries} m {memtable.lower()} E {entry_size} B {number_of_entries_per_page} P {number_of_pages} T {size_ratio} l {prefixlen} bucket_count {bucket_count}/workload.log\"\n",
    "    return f\"{get_exp_dirname(query_type, selectivity, entry_size, point_queries, number_of_entries_per_page)}/I {inserts} U {updates} S {range_queries} Y {selectivity} Q {point_queries} m {memtable.lower()} E {entry_size} B {number_of_entries_per_page} P {number_of_pages} T {size_ratio}/workload.log\""
   ]
  },
  {
   "cell_type": "code",
   "execution_count": 144,
   "metadata": {},
   "outputs": [],
   "source": [
    "def prepare_dataframe(log_file_path: str, key: str=\"RangeQueryTime: \") -> pd.DataFrame:\n",
    "    ff = open(log_file_path, \"r\")\n",
    "    range_quereis = []\n",
    "\n",
    "    for line in ff.readlines():\n",
    "        if key in line:\n",
    "            range_quereis.append(float(line.split(\" \")[1]))\n",
    "    \n",
    "    return pd.DataFrame(range_quereis, columns=[\"TimeTaken\"])\n",
    "\n",
    "\n",
    "def process_file(path):\n",
    "    ff = open(path, \"r\")\n",
    "\n",
    "    for line in ff.readlines():\n",
    "        if \"Total time taken by workload =\" in line:\n",
    "            return float(line.split(\"Total time taken by workload = \")[1].split(\" \")[0]) / 1000"
   ]
  },
  {
   "cell_type": "code",
   "execution_count": 174,
   "metadata": {},
   "outputs": [],
   "source": [
    "point_queries = [120, 1200, 12000, 120000] #, 120, 2400, 7200, 12000]\n",
    "memtables = [\"Vector\", \"SkipList\", \"Hashskiplist\", \"Hashlinklist\"]\n",
    "prefixlen = 4\n",
    "bucket_count = 100000\n",
    "entry_size = 64\n",
    "inserts = 120000\n",
    "range_queries = 0\n",
    "number_of_entries_per_page = 64\n",
    "number_of_pages = 4096\n",
    "updates = 0\n",
    "selectivity = 0\n",
    "\n",
    "\n",
    "data = {\n",
    "    \"vector\": [],\n",
    "    \"skiplist\": [], \n",
    "    \"hashskiplist\": [], \n",
    "    \"hashlinklist\": [],\n",
    "}\n",
    "\n",
    "for pqs in point_queries:\n",
    "\n",
    "    for memtable in memtables:\n",
    "        query_type = \"Interleaved-PQ-\"\n",
    "        query_type += memtable.lower()\n",
    "\n",
    "        path = get_log_file_path(\n",
    "            query_type,\n",
    "            inserts,\n",
    "            pqs,\n",
    "            range_queries,\n",
    "            selectivity,\n",
    "            memtable,\n",
    "            entry_size,\n",
    "            number_of_entries_per_page,\n",
    "            number_of_pages,\n",
    "            prefixlen,\n",
    "            bucket_count,\n",
    "        )\n",
    "\n",
    "        # df = prepare_dataframe(path, \"PointQueryTime:\")\n",
    "        total_operations = inserts + pqs + range_queries\n",
    "        avg_operational_latency = process_file(path) / total_operations\n",
    "\n",
    "        data[memtable.lower()].append({\n",
    "            \"pointQueries\": pqs,\n",
    "            \"AvgPointQueryLatency\": avg_operational_latency\n",
    "        })\n",
    "\n",
    "for memtable in memtables:\n",
    "    query_type = \"Only-Inserts-\"\n",
    "    query_type += memtable.lower()\n",
    "\n",
    "    path = get_log_file_path(\n",
    "        query_type,\n",
    "        inserts,\n",
    "        0,\n",
    "        0,\n",
    "        selectivity,\n",
    "        memtable,\n",
    "        entry_size,\n",
    "        number_of_entries_per_page,\n",
    "        number_of_pages,\n",
    "        prefixlen,\n",
    "        bucket_count,\n",
    "    )\n",
    "\n",
    "    total_operations = inserts\n",
    "    avg_operational_latency = process_file(path) / total_operations\n",
    "\n",
    "    data[memtable.lower()].append({\n",
    "        \"pointQueries\": 0,\n",
    "        \"AvgPointQueryLatency\": avg_operational_latency\n",
    "    })\n"
   ]
  },
  {
   "cell_type": "code",
   "execution_count": 175,
   "metadata": {},
   "outputs": [
    {
     "data": {
      "text/plain": [
       "{'vector': [{'pointQueries': 120, 'AvgPointQueryLatency': 94.64104929237429},\n",
       "  {'pointQueries': 1200, 'AvgPointQueryLatency': 375.6129054620462},\n",
       "  {'pointQueries': 12000, 'AvgPointQueryLatency': 2948.1561419242425},\n",
       "  {'pointQueries': 120000, 'AvgPointQueryLatency': 15941.9733203875},\n",
       "  {'pointQueries': 0, 'AvgPointQueryLatency': 80.18565357499999}],\n",
       " 'skiplist': [{'pointQueries': 120, 'AvgPointQueryLatency': 80.12414558774559},\n",
       "  {'pointQueries': 1200, 'AvgPointQueryLatency': 79.4089925990099},\n",
       "  {'pointQueries': 12000, 'AvgPointQueryLatency': 72.94981242424242},\n",
       "  {'pointQueries': 120000, 'AvgPointQueryLatency': 40.20522999583333},\n",
       "  {'pointQueries': 0, 'AvgPointQueryLatency': 80.20725317499999}],\n",
       " 'hashskiplist': [{'pointQueries': 120,\n",
       "   'AvgPointQueryLatency': 80.11402536630037},\n",
       "  {'pointQueries': 1200, 'AvgPointQueryLatency': 79.40297345709571},\n",
       "  {'pointQueries': 12000, 'AvgPointQueryLatency': 72.94364243181819},\n",
       "  {'pointQueries': 120000, 'AvgPointQueryLatency': 40.189359145833336},\n",
       "  {'pointQueries': 0, 'AvgPointQueryLatency': 80.19106030833333}],\n",
       " 'hashlinklist': [{'pointQueries': 120,\n",
       "   'AvgPointQueryLatency': 80.11644085914087},\n",
       "  {'pointQueries': 1200, 'AvgPointQueryLatency': 79.40778699669967},\n",
       "  {'pointQueries': 12000, 'AvgPointQueryLatency': 72.93700551515151},\n",
       "  {'pointQueries': 120000, 'AvgPointQueryLatency': 40.202101533333334},\n",
       "  {'pointQueries': 0, 'AvgPointQueryLatency': 80.19424294999999}]}"
      ]
     },
     "execution_count": 175,
     "metadata": {},
     "output_type": "execute_result"
    }
   ],
   "source": [
    "data"
   ]
  },
  {
   "cell_type": "code",
   "execution_count": 176,
   "metadata": {},
   "outputs": [
    {
     "data": {
      "text/plain": [
       "[{'pointQueries': 120, 'AvgPointQueryLatency': 80.11402536630037},\n",
       " {'pointQueries': 1200, 'AvgPointQueryLatency': 79.40297345709571},\n",
       " {'pointQueries': 12000, 'AvgPointQueryLatency': 72.94364243181819},\n",
       " {'pointQueries': 120000, 'AvgPointQueryLatency': 40.189359145833336},\n",
       " {'pointQueries': 0, 'AvgPointQueryLatency': 80.19106030833333}]"
      ]
     },
     "execution_count": 176,
     "metadata": {},
     "output_type": "execute_result"
    }
   ],
   "source": [
    "data['hashskiplist']"
   ]
  },
  {
   "cell_type": "code",
   "execution_count": 177,
   "metadata": {},
   "outputs": [
    {
     "data": {
      "text/plain": [
       "[80.18565357499999,\n",
       " 94.64104929237429,\n",
       " 375.6129054620462,\n",
       " 2948.1561419242425,\n",
       " 15941.9733203875]"
      ]
     },
     "execution_count": 177,
     "metadata": {},
     "output_type": "execute_result"
    }
   ],
   "source": [
    "point_queries\n",
    "[d['AvgPointQueryLatency'] for d in sorted(data['vector'], key=lambda x: x['pointQueries'])]"
   ]
  },
  {
   "cell_type": "code",
   "execution_count": 179,
   "metadata": {},
   "outputs": [
    {
     "data": {
      "image/png": "[encoded data removed]",
      "text/plain": [
       "<Figure size 500x300 with 1 Axes>"
      ]
     },
     "metadata": {},
     "output_type": "display_data"
    }
   ],
   "source": [
    "def get_properties(key: str) -> Dict[str, str]:\n",
    "    if key.lower() in label:\n",
    "        return {\n",
    "            # \"label\": label.get(key.capitalize()),\n",
    "            \"color\": \"black\",\n",
    "            # \"edgecolor\": edgecolor.get(key.capitalize()) or \"None\",\n",
    "            \"linestyle\": linestyle.get(key.lower()),\n",
    "            # \"hatch\": hatch.get(key.capitalize()),\n",
    "            # \"linewidth\": linewidth.get(key.capitalize()),\n",
    "            # \"alpha\": alpha.get(key.capitalize()),\n",
    "        }\n",
    "    else:\n",
    "        raise ValueError(f\"Unknown key: {key}\")\n",
    "\n",
    "point_queries = [0, 120, 1200, 12000, 120000]\n",
    "\n",
    "fig, ax = plt.subplots(figsize=(5,3))\n",
    "\n",
    "xpoints = [p for p in point_queries]\n",
    "\n",
    "ax.plot(\n",
    "    xpoints,\n",
    "    [d['AvgPointQueryLatency'] for d in sorted(data['vector'], key=lambda x: x['pointQueries'])],\n",
    "    label='vector',\n",
    "    **get_properties('vector'),\n",
    "    marker='o'\n",
    ")\n",
    "\n",
    "ax.plot(\n",
    "    xpoints,\n",
    "    [d['AvgPointQueryLatency'] for d in sorted(data['skiplist'], key=lambda x: x['pointQueries'])],\n",
    "    label='skiplist',\n",
    "    **get_properties('skiplist'),\n",
    "    marker='x'\n",
    ")\n",
    "\n",
    "ax.plot(\n",
    "    xpoints,\n",
    "    [d['AvgPointQueryLatency'] for d in sorted(data['hashskiplist'], key=lambda x: x['pointQueries'])],\n",
    "    label='hash skiplist',\n",
    "    **get_properties('hashskiplist'),\n",
    "    marker='s'\n",
    ")\n",
    "\n",
    "ax.plot(\n",
    "    xpoints,\n",
    "    [d['AvgPointQueryLatency'] for d in sorted(data['hashlinklist'], key=lambda x: x['pointQueries'])],\n",
    "    label='hash linklist',\n",
    "    **get_properties('hashlinklist'),\n",
    "    marker='^'\n",
    ")\n",
    "\n",
    "# ax.set_xticks(xpoints)\n",
    "# ax.set_xticklabels([f\"{p/inserts}\" for p in point_queries])\n",
    "\n",
    "ax.set_ylabel('avg point queries latency (ms)')\n",
    "ax.set_xlabel('point queries %')\n",
    "ax.set_ylim(bottom=10**1, top=10**7)\n",
    "\n",
    "# ax.legend()\n",
    "ax.set_yscale('log')\n",
    "ax.set_xscale('log')\n",
    "\n",
    "ax.text(-0.12, 1.12, '(A)', horizontalalignment='center', verticalalignment='center', transform=ax.transAxes, fontsize=12)\n",
    "\n",
    "fig.legend(loc='upper center', ncol=4, fontsize='small', bbox_to_anchor=(0.5, 1.05))\n",
    "plt.show()"
   ]
  },
  {
   "cell_type": "code",
   "execution_count": 153,
   "metadata": {},
   "outputs": [
    {
     "data": {
      "text/plain": [
       "0.0"
      ]
     },
     "execution_count": 153,
     "metadata": {},
     "output_type": "execute_result"
    }
   ],
   "source": [
    "point_queries[0]/inserts"
   ]
  },
  {
   "cell_type": "code",
   "execution_count": null,
   "metadata": {},
   "outputs": [],
   "source": []
  },
  {
   "cell_type": "code",
   "execution_count": 211,
   "metadata": {},
   "outputs": [
    {
     "name": "stderr",
     "output_type": "stream",
     "text": [
      "The PostScript backend does not support transparency; partially transparent artists will be rendered opaque.\n"
     ]
    },
    {
     "data": {
      "image/png": "[encoded data removed]",
      "text/plain": [
       "<Figure size 400x300 with 1 Axes>"
      ]
     },
     "metadata": {},
     "output_type": "display_data"
    }
   ],
   "source": [
    "def get_properties(key: str) -> Dict[str, str]:\n",
    "    if key.lower() in label:\n",
    "        return {\n",
    "            # \"label\": label.get(key.capitalize()),\n",
    "            \"color\": \"None\",\n",
    "            \"edgecolor\": \"black\",\n",
    "            # \"linestyle\": linestyle.get(key.lower()),\n",
    "            \"hatch\": hatch.get(key.capitalize()),\n",
    "            # \"linewidth\": linewidth.get(key.capitalize()),\n",
    "            # \"alpha\": alpha.get(key.capitalize()),\n",
    "        }\n",
    "    else:\n",
    "        raise ValueError(f\"Unknown key: {key}\")\n",
    "\n",
    "labels = [f\"{entry['pointQueries']}\" for entry in sorted(data['vector'], key=lambda x: x['pointQueries'])]\n",
    "vector_latencies = [entry['AvgPointQueryLatency'] for entry in sorted(data['vector'], key=lambda x: x['pointQueries'])]\n",
    "skiplist_latencies = [entry['AvgPointQueryLatency'] for entry in sorted(data['skiplist'], key=lambda x: x['pointQueries'])]\n",
    "# hashskiplist_latencies = [entry['AvgPointQueryLatency'] for entry in sorted(data['hashskiplist'], key=lambda x: x['pointQueries'])]\n",
    "# hashlinklist_latencies = [entry['AvgPointQueryLatency'] for entry in sorted(data['hashlinklist'], key=lambda x: x['pointQueries'])]\n",
    "\n",
    "x = np.arange(len(labels))  # the label locations\n",
    "width = 0.4  # the width of the bars\n",
    "\n",
    "fig, ax = plt.subplots(figsize=(4,3))\n",
    "rects1 = ax.bar(x - width*0.5, vector_latencies, width, label='vector', **get_properties('vector'))\n",
    "rects2 = ax.bar(x + width*0.5, skiplist_latencies, width, label='skip-list', **get_properties('skiplist')) \n",
    "# rects3 = ax.bar(x + width/2, hashskiplist_latencies, width, label='hash skip-list', **get_properties('hashskiplist'))\n",
    "# rects4 = ax.bar(x + width*1.5, hashlinklist_latencies, width, label='hash linked-list', **get_properties('hashlinklist'))\n",
    "\n",
    "ax.set_yscale('log')\n",
    "ax.set_ylim(bottom=10**1)\n",
    "\n",
    "ax.set_ylabel('avg. operational latency (ms)', fontsize=12)\n",
    "\n",
    "ax.set_xlabel('point queries %', fontsize=12)\n",
    "\n",
    "ax.set_xticks(x)\n",
    "\n",
    "xlabel = ['0', '0.001', '0.01', '0.1', '1']\n",
    "\n",
    "ax.set_xticklabels(xlabel, fontsize=12)\n",
    "\n",
    "ax.text(-0.08, 1.0, '(a)', horizontalalignment='center', verticalalignment='center', transform=ax.transAxes, fontsize=12, fontweight='bold')\n",
    "\n",
    "ax.grid(axis='y', linestyle='--', alpha=0.3)\n",
    "\n",
    "ax.legend(frameon=False, fontsize=12)\n",
    "\n",
    "fig.savefig('motivation-a.eps', format='eps', bbox_inches='tight')"
   ]
  },
  {
   "cell_type": "code",
   "execution_count": 207,
   "metadata": {},
   "outputs": [
    {
     "data": {
      "text/plain": [
       "[80.18565357499999,\n",
       " 94.64104929237429,\n",
       " 375.6129054620462,\n",
       " 2948.1561419242425,\n",
       " 15941.9733203875]"
      ]
     },
     "execution_count": 207,
     "metadata": {},
     "output_type": "execute_result"
    }
   ],
   "source": [
    "vector_latencies"
   ]
  },
  {
   "cell_type": "code",
   "execution_count": null,
   "metadata": {},
   "outputs": [],
   "source": []
  }
 ],
 "metadata": {
  "kernelspec": {
   "display_name": "Python 3",
   "language": "python",
   "name": "python3"
  },
  "language_info": {
   "codemirror_mode": {
    "name": "ipython",
    "version": 3
   },
   "file_extension": ".py",
   "mimetype": "text/x-python",
   "name": "python",
   "nbconvert_exporter": "python",
   "pygments_lexer": "ipython3",
   "version": "3.8.10"
  }
 },
 "nbformat": 4,
 "nbformat_minor": 2
}
